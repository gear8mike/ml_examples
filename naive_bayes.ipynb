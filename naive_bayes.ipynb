{
 "cells": [
  {
   "cell_type": "code",
   "execution_count": null,
   "id": "fdc1bcc6-883e-4809-9fc0-643f0a8a6124",
   "metadata": {},
   "outputs": [],
   "source": [
    "import numpy as np"
   ]
  },
  {
   "cell_type": "code",
   "execution_count": null,
   "id": "b20e42b5-9e4f-47bb-af30-7e8d51d60537",
   "metadata": {},
   "outputs": [],
   "source": [
    "X_train = np.array([\n",
    "    [0, 1, 1],\n",
    "    [0, 0, 1],\n",
    "    [0, 0, 0],\n",
    "    [1, 1, 0]\n",
    "])\n",
    "Y_train = ['Y', 'N', 'Y', 'Y']\n",
    "X_test = np.array([[1, 1, 0]])"
   ]
  },
  {
   "cell_type": "code",
   "execution_count": null,
   "id": "b56caf9f-6c52-4390-ab79-3e39bf07d3e6",
   "metadata": {},
   "outputs": [],
   "source": [
    "def get_label_indices(labels):\n",
    "    from collections import defaultdict\n",
    "    label_indices = defaultdict(list)\n",
    "    for index, label in enumerate(labels):\n",
    "        label_indices[label].append(index)\n",
    "    return label_indices"
   ]
  },
  {
   "cell_type": "code",
   "execution_count": null,
   "id": "a590d8e5-e816-4048-9cab-fcf38504bc23",
   "metadata": {},
   "outputs": [],
   "source": [
    "label_indices = get_label_indices(Y_train)\n",
    "label_indices"
   ]
  },
  {
   "cell_type": "code",
   "execution_count": null,
   "id": "9e97eb56-2dae-4373-aaca-b6c7f7f8291b",
   "metadata": {},
   "outputs": [],
   "source": [
    "def get_prior(label_indices):\n",
    "    prior = {label: len(indices) for label, indices in label_indices.items()}\n",
    "    total_count = sum(prior.values())\n",
    "    for label in prior:\n",
    "        prior[label] /= total_count\n",
    "    return prior"
   ]
  },
  {
   "cell_type": "code",
   "execution_count": null,
   "id": "8da16ee1-0119-4d20-9f7e-6a70f25fe291",
   "metadata": {},
   "outputs": [],
   "source": [
    "prior = get_prior(label_indices)\n",
    "prior"
   ]
  },
  {
   "cell_type": "code",
   "execution_count": null,
   "id": "6116ec60-5dfa-47da-92a1-e5940f65a8e3",
   "metadata": {},
   "outputs": [],
   "source": [
    "def get_likelihood(features, label_indices, smoothing=0):\n",
    "    likelihood = {}\n",
    "    for label, indices in label_indices.items():\n",
    "        likelihood[label] = features[indices, :].sum(axis=0) + smoothing\n",
    "        total_count = len(indices)\n",
    "        likelihood[label] = likelihood[label] / (total_count + 2 * smoothing)\n",
    "        \n",
    "    return likelihood"
   ]
  },
  {
   "cell_type": "code",
   "execution_count": null,
   "id": "2c882826-1216-4668-845c-c3236a366b04",
   "metadata": {},
   "outputs": [],
   "source": [
    "likelihood = get_likelihood(X_train, label_indices, smoothing=1)\n",
    "likelihood"
   ]
  },
  {
   "cell_type": "code",
   "execution_count": null,
   "id": "fe2d6ada-1dd6-4972-9f97-5238d9e3bbfb",
   "metadata": {},
   "outputs": [],
   "source": [
    "def get_posterior(X, prior, likelihood):\n",
    "    posteriors = []\n",
    "    for x in X:\n",
    "        posterior = prior.copy()\n",
    "        for label, likelihood_label in likelihood.items():\n",
    "            for index, bool_value in enumerate(x):\n",
    "                posterior[label] *= likelihood_label[index] if bool_value else (1 - likelihood_label[index])\n",
    "        # normalization\n",
    "        sum_posterior = sum(posterior.values())\n",
    "        for label in posterior:\n",
    "            if posterior[label] == float('inf'):\n",
    "                posterior[label] = 1.0\n",
    "            else:\n",
    "                posterior[label] /= sum_posterior\n",
    "        posteriors.append(posterior.copy())\n",
    "    return posteriors"
   ]
  },
  {
   "cell_type": "code",
   "execution_count": null,
   "id": "4b86cc0b-15a8-4336-affc-5c285f8c59af",
   "metadata": {},
   "outputs": [],
   "source": [
    "posterior = get_posterior(X_test, prior, likelihood)\n",
    "posterior"
   ]
  },
  {
   "cell_type": "markdown",
   "id": "3307f362-0237-4fb6-a948-21c83b31b001",
   "metadata": {},
   "source": [
    "### Realization of the same algorithm usin `scikit-learn` package"
   ]
  },
  {
   "cell_type": "code",
   "execution_count": null,
   "id": "a9f7b404-95b3-46bb-a681-729632e6f686",
   "metadata": {},
   "outputs": [],
   "source": [
    "from sklearn.naive_bayes import BernoulliNB"
   ]
  },
  {
   "cell_type": "code",
   "execution_count": null,
   "id": "88a16649-521f-40a2-a711-fc80406fbacb",
   "metadata": {},
   "outputs": [],
   "source": [
    "# create instance\n",
    "clf = BernoulliNB(alpha=1.0, fit_prior=True)"
   ]
  },
  {
   "cell_type": "code",
   "execution_count": null,
   "id": "9c6ce6d4-cb54-450e-8aa9-5a1377030af2",
   "metadata": {},
   "outputs": [],
   "source": [
    "clf.fit(X_train, Y_train)"
   ]
  },
  {
   "cell_type": "code",
   "execution_count": null,
   "id": "06b7e841-f86d-41b0-afb1-fcf15e0fd1fe",
   "metadata": {},
   "outputs": [],
   "source": [
    "pred_prob = clf.predict_proba(X_test)\n",
    "pred_prob"
   ]
  },
  {
   "cell_type": "code",
   "execution_count": null,
   "id": "5790d2b7-6056-4242-a234-03ba9d8dbac1",
   "metadata": {},
   "outputs": [],
   "source": [
    "pred = clf.predict(X_test)\n",
    "print(pred)"
   ]
  },
  {
   "cell_type": "markdown",
   "id": "98c06113-8e11-4377-a305-0f572b43e707",
   "metadata": {},
   "source": [
    "## Movie Recommender"
   ]
  },
  {
   "cell_type": "code",
   "execution_count": null,
   "id": "f2dce9e8-d936-4f04-8861-e884f0929156",
   "metadata": {},
   "outputs": [],
   "source": [
    "import pandas as pd\n",
    "from collections import defaultdict\n",
    "from os import path\n",
    "import numpy as np"
   ]
  },
  {
   "cell_type": "code",
   "execution_count": null,
   "id": "3ad4519c-3eb0-4022-a7d3-875f887ca2c0",
   "metadata": {},
   "outputs": [],
   "source": [
    "pd.__version__"
   ]
  },
  {
   "cell_type": "code",
   "execution_count": null,
   "id": "d5bf07c7-c6ae-4b21-b23e-9ff1a2688585",
   "metadata": {},
   "outputs": [],
   "source": [
    "DATA_PATH = \"./data/ml-latest-small/\"\n",
    "n_users = 610\n",
    "n_movies = 9742\n",
    "rating_path = path.join(DATA_PATH, \"ratings.csv\")"
   ]
  },
  {
   "cell_type": "code",
   "execution_count": null,
   "id": "3e57a60a-4e64-48a4-84a1-8199ead3d918",
   "metadata": {},
   "outputs": [],
   "source": [
    "df_rating = pd.read_csv(rating_path)\n",
    "df_rating.head()"
   ]
  },
  {
   "cell_type": "code",
   "execution_count": null,
   "id": "bd15f5c9-9157-4e11-83c1-ca716ed5d41e",
   "metadata": {},
   "outputs": [],
   "source": [
    "df_rating[\"userId\"] -= 1 \n",
    "df_rating.head()"
   ]
  },
  {
   "cell_type": "code",
   "execution_count": null,
   "id": "15b3d83e-8687-4c12-8cf8-2ac803b19a56",
   "metadata": {},
   "outputs": [],
   "source": [
    "df_rating[\"userId\"].dtype"
   ]
  },
  {
   "cell_type": "code",
   "execution_count": null,
   "id": "42dedc29-5a7c-4a98-bcd6-b47f6947895a",
   "metadata": {},
   "outputs": [],
   "source": [
    "def load_ratig_data(df, n_users, n_movies):\n",
    "    data = np.zeros([n_users, n_movies], dtype=np.float32)\n",
    "    movie_id_mapping = {}\n",
    "    movie_n_rating = defaultdict(int)\n",
    "    for row in df.itertuples(index=False):\n",
    "        user_id, movie_id, rating = row.userId, row.movieId, row.rating\n",
    "        # if movie_id not in movie_id_mapping:\n",
    "        #     movie_id_mapping[movie_id] = len(movie_id_mapping)\n",
    "        mapped_movie_id = movie_id_mapping.setdefault(movie_id, len(movie_id_mapping))\n",
    "        data[user_id, movie_id_mapping[movie_id]] = rating\n",
    "        if rating > 0:\n",
    "            movie_n_rating[movie_id] += 1\n",
    "    return data, movie_n_rating, movie_id_mapping"
   ]
  },
  {
   "cell_type": "code",
   "execution_count": null,
   "id": "e4997dd6-7963-4153-9f8c-bcba487c80b0",
   "metadata": {},
   "outputs": [],
   "source": [
    "data, movie_n_rating, movie_id_mapping = load_ratig_data(df_rating, n_users, n_movies)"
   ]
  },
  {
   "cell_type": "code",
   "execution_count": null,
   "id": "43b26791-d878-4d98-893d-6d0cf875f337",
   "metadata": {},
   "outputs": [],
   "source": [
    "type(movie_n_rating)"
   ]
  },
  {
   "cell_type": "code",
   "execution_count": null,
   "id": "b78877cf-f69f-4d59-b5f6-f8faeb0bddf0",
   "metadata": {},
   "outputs": [],
   "source": [
    "def display_distribution(data):\n",
    "    values, counts = np.unique(data, return_counts=True)\n",
    "    for value, count in zip(values, counts):\n",
    "        print(f\"Number of rating {value}: {count}\")\n",
    "display_distribution(data)"
   ]
  },
  {
   "cell_type": "code",
   "execution_count": null,
   "id": "cc85c99c-1eb9-49ed-a3a0-2559bc1c8606",
   "metadata": {},
   "outputs": [],
   "source": [
    "# movie_id_most, n_rating_most = sorted(movie_n_rating.items(), \n",
    "#                                       key= lambda d: d[1], reverse=True)[0]\n",
    "movie_id_most, n_rating_most = max(movie_n_rating.items(), key=lambda d: d[1])\n",
    "\n",
    "print(f\"Movie ID {movie_id_most} has {n_rating_most} ratings.\")"
   ]
  },
  {
   "cell_type": "code",
   "execution_count": null,
   "id": "8b33b162-6829-489b-86e0-ccecf13c60ed",
   "metadata": {},
   "outputs": [],
   "source": [
    "X_raw = np.delete(data, movie_id_mapping[movie_id_most], axis=1)\n",
    "Y_raw = data[:, movie_id_mapping[movie_id_most]]"
   ]
  },
  {
   "cell_type": "code",
   "execution_count": null,
   "id": "8592d55c-0a95-4c3e-8425-240178dff310",
   "metadata": {},
   "outputs": [],
   "source": [
    "X = X_raw[Y_raw > 0]\n",
    "Y = Y_raw[Y_raw > 0]\n",
    "print(X.shape)\n",
    "print(Y.shape)"
   ]
  },
  {
   "cell_type": "code",
   "execution_count": null,
   "id": "13b365c6-4f88-4a3d-b155-345299693ec3",
   "metadata": {},
   "outputs": [],
   "source": [
    "display_distribution(Y)"
   ]
  },
  {
   "cell_type": "code",
   "execution_count": null,
   "id": "e312c9c3-a958-4d7a-b8c3-673a707723d9",
   "metadata": {},
   "outputs": [],
   "source": [
    "recommend = 3\n",
    "Y[Y <= recommend] = 0\n",
    "Y[Y > recommend] = 1\n",
    "n_pos = (Y == 1).sum()\n",
    "n_neg = (Y == 0).sum()\n",
    "print(f\"pos: {n_pos}, neg: {n_neg}\")"
   ]
  },
  {
   "cell_type": "code",
   "execution_count": null,
   "id": "85b6fb9d-c1c4-4018-b25c-bc022680136c",
   "metadata": {},
   "outputs": [],
   "source": [
    "from sklearn.model_selection import train_test_split\n",
    "X_train, X_test, Y_train, Y_test = train_test_split(X, \n",
    "                                                    Y, \n",
    "                                                    test_size=0.25, \n",
    "                                                    random_state=11)"
   ]
  },
  {
   "cell_type": "code",
   "execution_count": null,
   "id": "695e2935-db26-4275-b2b6-61a3428f1585",
   "metadata": {},
   "outputs": [],
   "source": [
    "print(len(Y_train), len(Y_test))"
   ]
  },
  {
   "cell_type": "code",
   "execution_count": null,
   "id": "97ce0530-28a0-4716-b1b8-371493c1c80f",
   "metadata": {},
   "outputs": [],
   "source": [
    "from sklearn.naive_bayes import MultinomialNB\n",
    "clf = MultinomialNB(alpha=1.0, fit_prior=True)\n",
    "clf.fit(X_train, Y_train)"
   ]
  },
  {
   "cell_type": "code",
   "execution_count": null,
   "id": "eab61c98-a6e7-4188-ad6d-4a986a681b9a",
   "metadata": {},
   "outputs": [],
   "source": [
    "prediction_prob = clf.predict_proba(X_test)\n",
    "print(len(prediction_prob))"
   ]
  },
  {
   "cell_type": "code",
   "execution_count": null,
   "id": "01fc569f-db17-4708-9db9-fb62105d6739",
   "metadata": {},
   "outputs": [],
   "source": [
    "prediction = clf.predict(X_test)\n",
    "print(prediction)"
   ]
  },
  {
   "cell_type": "code",
   "execution_count": null,
   "id": "afa8298c-f2b1-4521-9661-fb34523493f5",
   "metadata": {},
   "outputs": [],
   "source": [
    "accuracy = clf.score(X_test, Y_test)\n",
    "print(f\"model accuracy {accuracy*100:.1f}%\")"
   ]
  },
  {
   "cell_type": "code",
   "execution_count": null,
   "id": "b13272d9-6b90-47c6-9af5-132c38baab32",
   "metadata": {},
   "outputs": [],
   "source": [
    "from sklearn.metrics import confusion_matrix, f1_score"
   ]
  },
  {
   "cell_type": "code",
   "execution_count": null,
   "id": "6b21b768-c3fd-428f-a306-8903ffc62ca5",
   "metadata": {},
   "outputs": [],
   "source": [
    "print(confusion_matrix(Y_test, prediction, labels=[0, 1]))"
   ]
  },
  {
   "cell_type": "code",
   "execution_count": null,
   "id": "e208dde9-a9ed-45e0-86d6-3a9a23be240f",
   "metadata": {},
   "outputs": [],
   "source": [
    "print(f1_score(Y_test, prediction, labels=[0, 1]))"
   ]
  },
  {
   "cell_type": "code",
   "execution_count": null,
   "id": "d18a6086-3630-4018-93a3-d50961d08ca9",
   "metadata": {},
   "outputs": [],
   "source": [
    "from sklearn.metrics import classification_report\n",
    "report = classification_report(Y_test, prediction)\n",
    "print(report)"
   ]
  },
  {
   "cell_type": "code",
   "execution_count": null,
   "id": "8d2ac2d7-3d59-48be-800e-40cbfad5b291",
   "metadata": {},
   "outputs": [],
   "source": [
    "pos_prob = prediction_prob[:, 1]\n",
    "thresholds = np.arange(0.0, 1.1, 0.05)\n",
    "true_pos, false_pos = [0] * len(thresholds), [0] * len(thresholds)\n",
    "for pred, y in zip(pos_prob, Y_test):\n",
    "    for i, threshold in enumerate(thresholds):\n",
    "        if pred >= threshold:\n",
    "            if  y == 1:\n",
    "                true_pos[i] += 1\n",
    "            else:\n",
    "                false_pos[i] += 1\n",
    "        else:\n",
    "            break"
   ]
  },
  {
   "cell_type": "code",
   "execution_count": null,
   "id": "04cf585c-c71c-457a-9746-8bd4868aa010",
   "metadata": {},
   "outputs": [],
   "source": [
    "n_pos_test = (Y_test == 1).sum()\n",
    "n_neg_test = (Y_test == 0).sum()"
   ]
  },
  {
   "cell_type": "code",
   "execution_count": null,
   "id": "2a081373-373b-4ddf-8e62-d974757a97d8",
   "metadata": {},
   "outputs": [],
   "source": [
    "true_pos_rate = [tp / n_pos_test for tp in true_pos]\n",
    "tpr = true_pos / n_pos_test\n",
    "false_pos_rate = [fp / n_neg_test for fp in false_pos]\n",
    "fpr = false_pos / n_neg_test"
   ]
  },
  {
   "cell_type": "code",
   "execution_count": null,
   "id": "bc19e579-367d-41e4-8fa2-a540e7337b59",
   "metadata": {},
   "outputs": [],
   "source": [
    "type(tpr)"
   ]
  },
  {
   "cell_type": "code",
   "execution_count": null,
   "id": "08c82b82-2b93-4452-89d8-845bd02f18b4",
   "metadata": {},
   "outputs": [],
   "source": [
    "type(true_pos_rate)"
   ]
  },
  {
   "cell_type": "code",
   "execution_count": null,
   "id": "516c224f-71cb-4c91-9ca4-1d31f7b76f91",
   "metadata": {},
   "outputs": [],
   "source": [
    "import matplotlib.pyplot as plt\n",
    "plt.figure()\n",
    "lw =2\n",
    "plt.plot(fpr, tpr, color='darkorange', lw=lw)\n",
    "plt.plot([0, 1], [0, 1], color='blue', lw=lw, linestyle='--')\n",
    "plt.xlim([0.0, 1.0])\n",
    "plt.ylim([0.0, 1.05])\n",
    "plt.xlabel('False Positive Rate')\n",
    "plt.ylabel('True Positive Rate')\n",
    "plt.title('ROC')\n",
    "# plt.legend(loc=\"lower right\")\n",
    "plt.show()"
   ]
  },
  {
   "cell_type": "code",
   "execution_count": null,
   "id": "7a5b7bfa-fa3d-4e69-a76f-dafb8be5f3d0",
   "metadata": {},
   "outputs": [],
   "source": [
    "from sklearn.model_selection import StratifiedKFold\n",
    "k = 5\n",
    "k_fold = StratifiedKFold(n_splits=k, random_state=42, shuffle=True)"
   ]
  },
  {
   "cell_type": "code",
   "execution_count": null,
   "id": "faefe128-f336-4232-9182-f79ceca74341",
   "metadata": {},
   "outputs": [],
   "source": [
    "from sklearn.naive_bayes import MultinomialNB\n",
    "from sklearn.metrics import roc_auc_score\n",
    "smoothing_factor_option = [1, 2, 3, 4, 5, 6]\n",
    "fit_prior_option = [True, False]\n",
    "auc_record = {}\n",
    "\n",
    "for train_indices, test_indices in k_fold.split(X, Y):\n",
    "    X_train, X_test = X[train_indices], X[test_indices]\n",
    "    Y_train, Y_test = Y[train_indices], Y[test_indices]\n",
    "    \n",
    "    # Check if X_test is empty\n",
    "    if X_test.shape[0] == 0:\n",
    "        print(\"Skipping fold due to empty X_test.\")\n",
    "        continue\n",
    "    \n",
    "    for alpha in smoothing_factor_option:\n",
    "        if alpha not in auc_record:\n",
    "            auc_record[alpha] = {}\n",
    "        \n",
    "        for fit_prior in fit_prior_option:\n",
    "            clf = MultinomialNB(alpha=alpha, fit_prior=fit_prior)\n",
    "            clf.fit(X_train, Y_train)\n",
    "            prediction_prob = clf.predict_proba(X_test)\n",
    "            pos_prob = prediction_prob[:, 1]\n",
    "            \n",
    "            # Check if Y_test contains both classes\n",
    "            if len(set(Y_test)) > 1:\n",
    "                auc = roc_auc_score(Y_test, pos_prob)\n",
    "                auc_record[alpha][fit_prior] = auc + auc_record[alpha].get(fit_prior, 0.0)\n",
    "            else:\n",
    "                print(f\"Skipping fold due to only one class present in Y_test: {set(Y_test)}\")"
   ]
  },
  {
   "cell_type": "code",
   "execution_count": null,
   "id": "c88458a7-aefc-4e93-a165-97bf8c575416",
   "metadata": {},
   "outputs": [],
   "source": [
    "auc_record"
   ]
  },
  {
   "cell_type": "code",
   "execution_count": null,
   "id": "f9d27139-3ac5-4b07-b6c7-24f9481cbfc7",
   "metadata": {},
   "outputs": [],
   "source": [
    "for smoothing, smoothing_record in auc_record.items():\n",
    "    for fit_prior, auc in smoothing_record.items():\n",
    "        print(f'    {smoothing}    {fit_prior}    {auc/k:.5f}')"
   ]
  },
  {
   "cell_type": "code",
   "execution_count": null,
   "id": "9d1a931b-23e8-4bf8-86e8-d509eb3781b9",
   "metadata": {},
   "outputs": [],
   "source": [
    "# in our case parameters (1, False)\n",
    "clf = MultinomialNB(alpha=1.0, fit_prior=False)\n",
    "clf.fit(X_train, Y_train)\n",
    "pos_prob = clf.predict_proba(X_test)[:, 1]\n",
    "print(\"AUC for best model: \", roc_auc_score(Y_test, pos_prob))"
   ]
  },
  {
   "cell_type": "code",
   "execution_count": null,
   "id": "25bd374f-aaec-453b-9ac6-313f600c6cc4",
   "metadata": {},
   "outputs": [],
   "source": [
    "X_test"
   ]
  },
  {
   "cell_type": "code",
   "execution_count": null,
   "id": "b0633243-0270-44cc-9acc-d122a866d026",
   "metadata": {},
   "outputs": [],
   "source": [
    "pos_prob"
   ]
  },
  {
   "cell_type": "code",
   "execution_count": null,
   "id": "c2b2dc3f-2f82-4700-a552-79e10dd322a4",
   "metadata": {},
   "outputs": [],
   "source": [
    "prob = clf.predict_proba(X_test)"
   ]
  },
  {
   "cell_type": "code",
   "execution_count": null,
   "id": "276b6aad-5cd6-4744-afe1-cedbdb6438be",
   "metadata": {},
   "outputs": [],
   "source": [
    "len(X_test[1])"
   ]
  },
  {
   "cell_type": "code",
   "execution_count": null,
   "id": "bd8c840c-7dcf-446d-b78a-88f694710ad7",
   "metadata": {},
   "outputs": [],
   "source": [
    "len(X_train[1])"
   ]
  },
  {
   "cell_type": "markdown",
   "id": "96852277-bfb8-4512-b8bd-e95c20b06a3e",
   "metadata": {},
   "source": [
    "## Heart Disease"
   ]
  },
  {
   "cell_type": "code",
   "execution_count": null,
   "id": "8cb329ea-823c-4946-897f-feda3e8a524b",
   "metadata": {},
   "outputs": [],
   "source": [
    "import pandas as pd\n",
    "import numpy as np\n",
    "from os.path import join\n",
    "from collections import defaultdict\n",
    "from sklearn.model_selection import train_test_split, StratifiedKFold\n",
    "from sklearn.naive_bayes import MultinomialNB\n",
    "from sklearn.metrics import classification_report, confusion_matrix, roc_auc_score\n",
    "import matplotlib.pyplot as plt"
   ]
  },
  {
   "cell_type": "code",
   "execution_count": null,
   "id": "9ee25b37-f015-4e67-80a0-14ff7061e232",
   "metadata": {},
   "outputs": [],
   "source": [
    "DATA_PATH = \"./data/\""
   ]
  },
  {
   "cell_type": "code",
   "execution_count": null,
   "id": "ee04a329-2a3b-4bb2-a3be-b047796ac8e6",
   "metadata": {},
   "outputs": [],
   "source": [
    "df_hd = pd.read_csv(join(DATA_PATH, \"heart_disease_uci.csv\"))"
   ]
  },
  {
   "cell_type": "code",
   "execution_count": null,
   "id": "e0c92b35-e119-44a7-bfaf-9f7184bc3b73",
   "metadata": {},
   "outputs": [],
   "source": [
    "df_hd.head()"
   ]
  },
  {
   "cell_type": "code",
   "execution_count": null,
   "id": "2279a07f-71b3-43fa-b1e7-55a6040895ea",
   "metadata": {},
   "outputs": [],
   "source": [
    "df_hd.info()"
   ]
  },
  {
   "cell_type": "code",
   "execution_count": null,
   "id": "ecb7325e-c7dc-4b6c-b780-7599b65fd279",
   "metadata": {},
   "outputs": [],
   "source": [
    "processed_data = df_hd.drop(columns=['id', 'dataset'])"
   ]
  },
  {
   "cell_type": "code",
   "execution_count": null,
   "id": "19c31f97-ef8f-4dae-9fd8-5bbc1ece3ae4",
   "metadata": {},
   "outputs": [],
   "source": [
    "processed_data.sample(5)"
   ]
  },
  {
   "cell_type": "code",
   "execution_count": null,
   "id": "5367d047-f214-4326-b8e3-e8e907dd73a9",
   "metadata": {},
   "outputs": [],
   "source": [
    "processed_data_dropped = processed_data.dropna()"
   ]
  },
  {
   "cell_type": "code",
   "execution_count": null,
   "id": "1eacf29a-c484-4145-990a-582e30465414",
   "metadata": {},
   "outputs": [],
   "source": [
    "processed_data_dropped.info()"
   ]
  },
  {
   "cell_type": "code",
   "execution_count": null,
   "id": "b92e6485-ec9a-465c-aec4-740bc1f90f66",
   "metadata": {},
   "outputs": [],
   "source": [
    "print(processed_data_dropped['sex'].unique())\n",
    "print(processed_data_dropped['cp'].unique())\n",
    "print(processed_data_dropped['restecg'].unique())\n",
    "print(processed_data_dropped['slope'].unique())\n",
    "print(processed_data_dropped['thal'].unique())"
   ]
  },
  {
   "cell_type": "code",
   "execution_count": null,
   "id": "e611adc0-2a8e-4e95-b20a-197bbe4544a0",
   "metadata": {},
   "outputs": [],
   "source": [
    "# Create mappings dynamically for all columns\n",
    "columns_to_map = ['sex', 'cp', 'restecg', 'slope', 'thal']\n",
    "mappings = {}\n",
    "processed_data_dropped = processed_data_dropped.copy()\n",
    "\n",
    "for col in columns_to_map:\n",
    "    unique_values = processed_data_dropped[col].unique()\n",
    "    mappings[col] = {value: idx for idx, value in enumerate(unique_values)}\n",
    "    # Perform mapping and convert to integer\n",
    "    processed_data_dropped[col] = processed_data_dropped[col].map(mappings[col]).astype(int)\n",
    "\n",
    "# Display the updated DataFrame info\n",
    "print(processed_data_dropped.info())\n"
   ]
  },
  {
   "cell_type": "code",
   "execution_count": null,
   "id": "3b42ae17-82c3-4507-96e2-e383cd85e943",
   "metadata": {},
   "outputs": [],
   "source": [
    "def convert_float_to_int(df, columns):\n",
    "    for col in columns:\n",
    "        # Check if all values are effectively integers\n",
    "        if np.all(df[col] % 1 == 0):\n",
    "            df[col] = df[col].astype(int)\n",
    "    return df\n",
    "\n",
    "# Identify float columns\n",
    "float_columns = processed_data_dropped.select_dtypes(include=['float']).columns\n",
    "\n",
    "# Convert eligible float columns to int\n",
    "df_final = convert_float_to_int(processed_data_dropped, float_columns)"
   ]
  },
  {
   "cell_type": "code",
   "execution_count": null,
   "id": "dd8f1c6f-bf19-4f52-afba-06fb2d7fa7bb",
   "metadata": {},
   "outputs": [],
   "source": [
    "df_final.info()"
   ]
  },
  {
   "cell_type": "code",
   "execution_count": null,
   "id": "4579698c-fafe-4ecd-8b97-5bdae2db3c4b",
   "metadata": {},
   "outputs": [],
   "source": [
    "df_final['exang'] = df_final['exang'].astype(int)\n",
    "df_final['fbs'] = df_final['fbs'].astype(int)"
   ]
  },
  {
   "cell_type": "code",
   "execution_count": null,
   "id": "e268c88c-9437-409d-a510-4d10ee49e5ef",
   "metadata": {},
   "outputs": [],
   "source": [
    "df_final.head(15)"
   ]
  },
  {
   "cell_type": "code",
   "execution_count": null,
   "id": "c2e0adf3-6920-467c-b099-a5875350eb5c",
   "metadata": {},
   "outputs": [],
   "source": [
    "df_final.info()"
   ]
  },
  {
   "cell_type": "code",
   "execution_count": null,
   "id": "d01d1290-971c-4f50-b576-d01e2806dd18",
   "metadata": {},
   "outputs": [],
   "source": [
    "import seaborn as sns"
   ]
  },
  {
   "cell_type": "code",
   "execution_count": null,
   "id": "a009c54c-30ad-490f-8629-597320897e4b",
   "metadata": {},
   "outputs": [],
   "source": [
    "f,ax = plt.subplots(figsize=(20, 10))\n",
    "sns.heatmap(df_final.corr(), annot=True, linewidths=0.5,linecolor=\"red\", fmt= '.1f',ax=ax)\n",
    "plt.show()"
   ]
  },
  {
   "cell_type": "code",
   "execution_count": null,
   "id": "8374b100-c6a7-47de-9942-3fe29ceb8815",
   "metadata": {},
   "outputs": [],
   "source": [
    "X = df_final.iloc[:, :-1]\n",
    "Y = df_final.iloc[:, -1]"
   ]
  },
  {
   "cell_type": "code",
   "execution_count": null,
   "id": "ffe4f9b9-9b6f-4c34-bd7a-640dab5d5667",
   "metadata": {},
   "outputs": [],
   "source": [
    "from sklearn.preprocessing import StandardScaler\n",
    "scaler = StandardScaler()\n",
    "scaler.fit(X)\n",
    "X = scaler.transform(X)"
   ]
  },
  {
   "cell_type": "code",
   "execution_count": null,
   "id": "bba99d3e-2fb2-4038-9939-bfd32afb417d",
   "metadata": {},
   "outputs": [],
   "source": [
    "Y = Y.copy()\n",
    "Y[Y > 0] = 1"
   ]
  },
  {
   "cell_type": "code",
   "execution_count": null,
   "id": "26b11176-12ef-4336-a447-8fef5c9a51eb",
   "metadata": {},
   "outputs": [],
   "source": [
    "X_train, X_test, Y_train, Y_test = train_test_split(X, Y, test_size=0.2, random_state=23)"
   ]
  },
  {
   "cell_type": "code",
   "execution_count": null,
   "id": "10c7c246-aae7-4590-8b8f-a0211d4bb152",
   "metadata": {},
   "outputs": [],
   "source": [
    "from sklearn.naive_bayes import GaussianNB\n",
    "classifier = GaussianNB()\n",
    "classifier.fit(X_train, Y_train)"
   ]
  },
  {
   "cell_type": "code",
   "execution_count": null,
   "id": "d754e55b-fcb1-4bbb-98a9-5101490b3cd6",
   "metadata": {},
   "outputs": [],
   "source": [
    "Y_pred = classifier.predict(X_test)"
   ]
  },
  {
   "cell_type": "code",
   "execution_count": null,
   "id": "ec1f7a58-b0ae-4733-964c-e0efbcbd1eb2",
   "metadata": {},
   "outputs": [],
   "source": [
    "from sklearn import metrics\n",
    "print(f\"Accuracy Score: {metrics.accuracy_score(Y_test, Y_pred):.3f}\")"
   ]
  },
  {
   "cell_type": "code",
   "execution_count": null,
   "id": "a01e5d28-efbd-4138-8e35-b107b75f115c",
   "metadata": {},
   "outputs": [],
   "source": [
    "cm = confusion_matrix(Y_test, Y_pred)\n",
    "f,ax = plt.subplots(figsize=(10, 10))\n",
    "sns.heatmap(cm, annot=True, linewidths=0.5,linecolor=\"red\", fmt= '.0f',ax=ax)\n",
    "plt.show()"
   ]
  },
  {
   "cell_type": "code",
   "execution_count": null,
   "id": "b5249459-c413-47dd-a758-1e9b413b580b",
   "metadata": {},
   "outputs": [],
   "source": [
    "report = classification_report(Y_test, Y_pred)\n",
    "print(report)"
   ]
  }
 ],
 "metadata": {
  "kernelspec": {
   "display_name": "pandas-env",
   "language": "python",
   "name": "pandas-env"
  },
  "language_info": {
   "codemirror_mode": {
    "name": "ipython",
    "version": 3
   },
   "file_extension": ".py",
   "mimetype": "text/x-python",
   "name": "python",
   "nbconvert_exporter": "python",
   "pygments_lexer": "ipython3",
   "version": "3.8.13"
  }
 },
 "nbformat": 4,
 "nbformat_minor": 5
}
